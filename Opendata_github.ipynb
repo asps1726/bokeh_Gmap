{
 "cells": [
  {
   "cell_type": "code",
   "execution_count": 23,
   "metadata": {
    "scrolled": true
   },
   "outputs": [
    {
     "name": "stdout",
     "output_type": "stream",
     "text": [
      "0        120.224441\n",
      "1        120.222779\n",
      "2        120.217392\n",
      "3        120.227513\n",
      "4        120.211231\n",
      "            ...    \n",
      "18258    120.248477\n",
      "18259    120.231654\n",
      "18260    120.263108\n",
      "18261    120.309172\n",
      "18262    120.313642\n",
      "Name: longtitude, Length: 18263, dtype: float64\n"
     ]
    }
   ],
   "source": [
    "import pandas as pd\n",
    "\n",
    "from bokeh.models import (GMapPlot, GMapOptions, ColumnDataSource, Circle, Range1d, PanTool, WheelZoomTool, Slider, HoverTool, Select)\n",
    "from bokeh.models.widgets import CheckboxGroup\n",
    "from bokeh.plotting import figure, output_file, show\n",
    "\n",
    "\n",
    "df_1 = pd.read_csv(\"10807-12.csv\")\n",
    "print(df_1[\"longtitude\"])\n",
    "\n"
   ]
  },
  {
   "cell_type": "code",
   "execution_count": 24,
   "metadata": {},
   "outputs": [
    {
     "name": "stdout",
     "output_type": "stream",
     "text": [
      "               案件編號      date   time  longtitude   latitude  案件類別名稱  地址類型名稱  \\\n",
      "10  10807AC191B0057  20190702  72035  120.237309  22.968732    交通事故    一般地址   \n",
      "11  10807AC191B0061  20190702  85036  120.227495  22.967703    交通事故    交叉路口   \n",
      "23  10807AC191B0129  20190703  73314  120.227566  22.966271    交通事故    交叉路口   \n",
      "24  10807AC191B0136  20190703  85000  120.229085  22.984051    交通事故    一般地址   \n",
      "25  10807AC191B0148  20190703  73042  120.221077  22.976440    交通事故    交叉路口   \n",
      "\n",
      "    發生縣市名稱  發生市區鄉鎮名稱                地點   24小時內死亡人數   2-30日內死亡人數   受傷人數  天候名稱  \\\n",
      "10     臺南市        東區   臺南市東區自由路1段187附近           0            0      1     雨   \n",
      "11     臺南市        東區   臺南市東區崇德路段口崇德二十街           0            0      2     晴   \n",
      "23     臺南市        東區  臺南市東區崇德路段口崇德二十三街           0            0      1     雨   \n",
      "24     臺南市        東區   臺南市東區東門路2段301南側           0            0      1     雨   \n",
      "25     臺南市        東區    臺南市東區崇明路段口崇明九街           0            0      2     雨   \n",
      "\n",
      "     速限-第1當事者  道路型態大類別名稱  事故位置大類別名稱  號誌-號誌種類名稱  事故類型及型態大類別名稱         reason  \n",
      "10         50        交岔路       交叉路口        無號誌           車與車         未依規定讓車  \n",
      "11         50        交岔路       交叉路口        無號誌           車與車         未依規定讓車  \n",
      "23         50        交岔路       交叉路口        無號誌           車與車         未依規定讓車  \n",
      "24         50        交岔路       交叉路口     行車管制號誌       人與汽(機)車         不明原因肇事  \n",
      "25         40        交岔路       交叉路口       閃光號誌           車與車  起步未注意其他車(人)安全  \n"
     ]
    }
   ],
   "source": [
    "worktime_morning = df_1 [df_1[\"time\"].between(70000,90000)]\n",
    "worktime_evening = df_1 [df_1[\"time\"].between(170000,190000)]\n",
    "print(worktime_morning.head())"
   ]
  },
  {
   "cell_type": "code",
   "execution_count": 25,
   "metadata": {},
   "outputs": [],
   "source": []
  },
  {
   "cell_type": "code",
   "execution_count": 26,
   "metadata": {},
   "outputs": [],
   "source": [
    "#上班時間\n",
    "\n",
    "output_file(\"worktime_morning.html\", title = \"上班時間\")\n",
    "\n",
    "map_options = GMapOptions(lat=23.05, lng=120.25, map_type=\"roadmap\", zoom=12)\n",
    "\n",
    "plot = GMapPlot(x_range=Range1d(), y_range=Range1d(), map_options=map_options, plot_width=1366, plot_height=768)\n",
    "plot.api_key = \"\"\n",
    "\n",
    "source = ColumnDataSource(\n",
    "    data=dict(\n",
    "        lat=worktime_morning[\"latitude\"],\n",
    "        lng=worktime_morning[\"longtitude\"],\n",
    "        time=worktime_morning[\"time\"],\n",
    "        date=worktime_morning[\"date\"]\n",
    "    )\n",
    ")\n",
    "\n",
    "\n",
    "\n",
    "circle = Circle(x=\"lng\", y=\"lat\", size=3,fill_color=\"red\", fill_alpha=0.2,line_color=None)\n",
    "\n",
    "\n",
    "plot.add_tools( HoverTool(tooltips = [(\"date\", \"@date\"),\n",
    "                                      (\"time\",\"@time\")]))\n",
    "\n",
    "plot.add_glyph(source, circle)\n",
    "plot.add_tools(PanTool(),WheelZoomTool())\n",
    "\n",
    "show(plot)\n"
   ]
  },
  {
   "cell_type": "code",
   "execution_count": 29,
   "metadata": {},
   "outputs": [],
   "source": [
    "#下班時間\n",
    "\n",
    "output_file(\"worktime_evening.html\", title = \"下班時間\")\n",
    "\n",
    "map_options = GMapOptions(lat=23.05, lng=120.25, map_type=\"roadmap\", zoom=12)\n",
    "\n",
    "plot = GMapPlot(x_range=Range1d(), y_range=Range1d(), map_options=map_options, plot_width=1366, plot_height=768)\n",
    "plot.api_key = \"\"\n",
    "\n",
    "source = ColumnDataSource(\n",
    "    data=dict(\n",
    "        lat=worktime_evening[\"latitude\"],\n",
    "        lng=worktime_evening[\"longtitude\"],\n",
    "        time=worktime_evening[\"time\"],\n",
    "        date=worktime_evening[\"date\"]\n",
    "    )\n",
    ")\n",
    "\n",
    "map_options = GMapOptions(lat=23.05, lng=120.25, map_type=\"roadmap\", zoom=12)\n",
    "\n",
    "plot = GMapPlot(x_range=Range1d(), y_range=Range1d(), map_options=map_options, plot_width=1366, plot_height=768)\n",
    "plot.api_key = \"\"\n",
    "\n",
    "source = ColumnDataSource(\n",
    "    data=dict(\n",
    "        lat=worktime_evening[\"latitude\"],\n",
    "        lng=worktime_evening[\"longtitude\"],\n",
    "        time=worktime_evening[\"time\"],\n",
    "        date=worktime_evening[\"date\"]\n",
    "    )\n",
    ")\n",
    "\n",
    "\n",
    "\n",
    "circle = Circle(x=\"lng\", y=\"lat\", size=3,fill_color=\"red\", fill_alpha=0.2,line_color=None)\n",
    "\n",
    "\n",
    "plot.add_tools( HoverTool(tooltips = [(\"date\", \"@date\"),\n",
    "                                      (\"time\",\"@time\")]))\n",
    "\n",
    "plot.add_glyph(source, circle)\n",
    "plot.add_tools(PanTool(),WheelZoomTool())\n",
    "\n",
    "show(plot)\n"
   ]
  },
  {
   "cell_type": "code",
   "execution_count": 28,
   "metadata": {},
   "outputs": [],
   "source": [
    "#總共\n",
    "\n",
    "output_file(\"total.html\", title = \"總資料\")\n",
    "\n",
    "map_options = GMapOptions(lat=23.05, lng=120.25, map_type=\"roadmap\", zoom=12)\n",
    "\n",
    "plot = GMapPlot(x_range=Range1d(), y_range=Range1d(), map_options=map_options, plot_width=1366, plot_height=768)\n",
    "plot.api_key = \"\"\n",
    "\n",
    "source = ColumnDataSource(\n",
    "    data=dict(\n",
    "        lat=df_1[\"latitude\"],\n",
    "        lng=df_1[\"longtitude\"],\n",
    "        time=df_1[\"time\"],\n",
    "        date=df_1[\"date\"]\n",
    "    )\n",
    ")\n",
    "\n",
    "\n",
    "\n",
    "circle = Circle(x=\"lng\", y=\"lat\", size=3,fill_color=\"red\", fill_alpha=0.2,line_color=None)\n",
    "\n",
    "\n",
    "plot.add_tools( HoverTool(tooltips = [(\"date\", \"@date\"),\n",
    "                                      (\"time\",\"@time\")]))\n",
    "\n",
    "plot.add_glyph(source, circle)\n",
    "plot.add_tools(PanTool(),WheelZoomTool())\n",
    "\n",
    "\n",
    "\n",
    "show(plot)"
   ]
  }
 ],
 "metadata": {
  "kernelspec": {
   "display_name": "Python 3",
   "language": "python",
   "name": "python3"
  },
  "language_info": {
   "codemirror_mode": {
    "name": "ipython",
    "version": 3
   },
   "file_extension": ".py",
   "mimetype": "text/x-python",
   "name": "python",
   "nbconvert_exporter": "python",
   "pygments_lexer": "ipython3",
   "version": "3.8.1"
  }
 },
 "nbformat": 4,
 "nbformat_minor": 4
}
